{
 "cells": [
  {
   "cell_type": "code",
   "execution_count": 1,
   "id": "0c1732a2-0297-4758-8b19-d63b67980c18",
   "metadata": {},
   "outputs": [
    {
     "name": "stderr",
     "output_type": "stream",
     "text": [
      "2024-07-18 17:33:21.787836: I tensorflow/core/platform/cpu_feature_guard.cc:182] This TensorFlow binary is optimized to use available CPU instructions in performance-critical operations.\n",
      "To enable the following instructions: SSE4.1 SSE4.2 AVX AVX2 FMA, in other operations, rebuild TensorFlow with the appropriate compiler flags.\n"
     ]
    }
   ],
   "source": [
    "import tensorflow as tf\n",
    "from tensorflow import keras\n",
    "import numpy as np\n",
    "\n"
   ]
  },
  {
   "cell_type": "code",
   "execution_count": 2,
   "id": "8c4cd970-5976-471f-8319-f496c9dd8740",
   "metadata": {},
   "outputs": [],
   "source": [
    "data = keras.datasets.imdb\n",
    "\n",
    "(train_data, train_labels), (test_data, test_labels) = data.load_data(num_words=88000)"
   ]
  },
  {
   "cell_type": "code",
   "execution_count": 3,
   "id": "2a8116fc-61e2-4c39-901e-7de7acc93ab7",
   "metadata": {},
   "outputs": [],
   "source": [
    "word_index = data.get_word_index() \n",
    "\n",
    "word_index = {k:(v+3) for k, v in word_index.items()}\n",
    "word_index[\"<PAD>\"] = 0\n",
    "word_index[\"<START>\"] = 1\n",
    "word_index[\"<UNK>\"] = 2\n",
    "word_index[\"<UNUSED>\"] = 3\n",
    "\n",
    "reverse_word_index = dict([(value, key) for (key, value) in word_index.items()])\n",
    "\n",
    "\n",
    "def decode_review(text):\n",
    "\treturn \" \".join([reverse_word_index.get(i, \"?\") for i in text])"
   ]
  },
  {
   "cell_type": "code",
   "execution_count": 4,
   "id": "b7ea2c30-cd82-41e5-9243-5f0dea9c691a",
   "metadata": {},
   "outputs": [],
   "source": [
    "from keras.utils import pad_sequences\n",
    "\n",
    "train_data = keras.utils.pad_sequences(train_data, value=word_index[\"<PAD>\"], padding=\"post\", maxlen=250)\n",
    "test_data = keras.utils.pad_sequences(test_data, value=word_index[\"<PAD>\"], padding=\"post\", maxlen=250)"
   ]
  },
  {
   "cell_type": "code",
   "execution_count": 9,
   "id": "6fa5e265-c442-4821-ba0f-5c828ba1b755",
   "metadata": {},
   "outputs": [],
   "source": [
    "model = keras.Sequential()\n",
    "model.add(keras.layers.Embedding(88000, 16))\n",
    "model.add(keras.layers.GlobalAveragePooling1D())\n",
    "model.add(keras.layers.Dense(16, activation=\"relu\"))\n",
    "model.add(keras.layers.Dense(1, activation=\"sigmoid\"))\n",
    "\n",
    "model.summary\n",
    "model.compile(optimizer=\"adam\",loss=\"binary_crossentropy\", metrics=[\"accuracy\"])"
   ]
  },
  {
   "cell_type": "code",
   "execution_count": 10,
   "id": "ba89e5ea-dbea-41c5-8a46-0090f3775286",
   "metadata": {},
   "outputs": [],
   "source": [
    "x_val = train_data[:10000]\n",
    "x_train = train_data[10000:]\n",
    "\n",
    "y_val = train_labels[:10000]\n",
    "y_train = train_labels[10000:]"
   ]
  },
  {
   "cell_type": "code",
   "execution_count": 23,
   "id": "6117a43e-512f-4dab-a134-a60778fc0773",
   "metadata": {},
   "outputs": [
    {
     "data": {
      "text/plain": [
       "dtype('int64')"
      ]
     },
     "execution_count": 23,
     "metadata": {},
     "output_type": "execute_result"
    }
   ],
   "source": [
    "y_val.dtype"
   ]
  },
  {
   "cell_type": "code",
   "execution_count": 22,
   "id": "d14b206c-3ade-4fcb-9428-c122a4b81fba",
   "metadata": {},
   "outputs": [
    {
     "data": {
      "text/plain": [
       "dtype('int64')"
      ]
     },
     "execution_count": 22,
     "metadata": {},
     "output_type": "execute_result"
    }
   ],
   "source": [
    "test_labels.dtype"
   ]
  },
  {
   "cell_type": "code",
   "execution_count": 11,
   "id": "cbcf7691-11f0-4d98-a768-4be4d2e84241",
   "metadata": {
    "scrolled": true
   },
   "outputs": [
    {
     "name": "stdout",
     "output_type": "stream",
     "text": [
      "Epoch 1/40\n",
      "30/30 [==============================] - 3s 48ms/step - loss: 0.6923 - accuracy: 0.5169 - val_loss: 0.6908 - val_accuracy: 0.6524\n",
      "Epoch 2/40\n",
      "30/30 [==============================] - 1s 36ms/step - loss: 0.6882 - accuracy: 0.6405 - val_loss: 0.6850 - val_accuracy: 0.6990\n",
      "Epoch 3/40\n",
      "30/30 [==============================] - 1s 36ms/step - loss: 0.6788 - accuracy: 0.6927 - val_loss: 0.6727 - val_accuracy: 0.6994\n",
      "Epoch 4/40\n",
      "30/30 [==============================] - 1s 36ms/step - loss: 0.6606 - accuracy: 0.7361 - val_loss: 0.6514 - val_accuracy: 0.7282\n",
      "Epoch 5/40\n",
      "30/30 [==============================] - 1s 39ms/step - loss: 0.6313 - accuracy: 0.7779 - val_loss: 0.6205 - val_accuracy: 0.7557\n",
      "Epoch 6/40\n",
      "30/30 [==============================] - 1s 42ms/step - loss: 0.5916 - accuracy: 0.8043 - val_loss: 0.5821 - val_accuracy: 0.7919\n",
      "Epoch 7/40\n",
      "30/30 [==============================] - 1s 37ms/step - loss: 0.5447 - accuracy: 0.8329 - val_loss: 0.5409 - val_accuracy: 0.8002\n",
      "Epoch 8/40\n",
      "30/30 [==============================] - 1s 38ms/step - loss: 0.4941 - accuracy: 0.8557 - val_loss: 0.4968 - val_accuracy: 0.8328\n",
      "Epoch 9/40\n",
      "30/30 [==============================] - 1s 37ms/step - loss: 0.4420 - accuracy: 0.8746 - val_loss: 0.4555 - val_accuracy: 0.8448\n",
      "Epoch 10/40\n",
      "30/30 [==============================] - 1s 40ms/step - loss: 0.3940 - accuracy: 0.8889 - val_loss: 0.4197 - val_accuracy: 0.8537\n",
      "Epoch 11/40\n",
      "30/30 [==============================] - 1s 39ms/step - loss: 0.3521 - accuracy: 0.8998 - val_loss: 0.3905 - val_accuracy: 0.8595\n",
      "Epoch 12/40\n",
      "30/30 [==============================] - 1s 44ms/step - loss: 0.3161 - accuracy: 0.9080 - val_loss: 0.3665 - val_accuracy: 0.8676\n",
      "Epoch 13/40\n",
      "30/30 [==============================] - 1s 39ms/step - loss: 0.2859 - accuracy: 0.9158 - val_loss: 0.3472 - val_accuracy: 0.8708\n",
      "Epoch 14/40\n",
      "30/30 [==============================] - 1s 40ms/step - loss: 0.2592 - accuracy: 0.9235 - val_loss: 0.3322 - val_accuracy: 0.8746\n",
      "Epoch 15/40\n",
      "30/30 [==============================] - 1s 42ms/step - loss: 0.2366 - accuracy: 0.9299 - val_loss: 0.3199 - val_accuracy: 0.8786\n",
      "Epoch 16/40\n",
      "30/30 [==============================] - 1s 37ms/step - loss: 0.2167 - accuracy: 0.9367 - val_loss: 0.3096 - val_accuracy: 0.8806\n",
      "Epoch 17/40\n",
      "30/30 [==============================] - 1s 38ms/step - loss: 0.1990 - accuracy: 0.9428 - val_loss: 0.3020 - val_accuracy: 0.8826\n",
      "Epoch 18/40\n",
      "30/30 [==============================] - 1s 37ms/step - loss: 0.1833 - accuracy: 0.9481 - val_loss: 0.2947 - val_accuracy: 0.8836\n",
      "Epoch 19/40\n",
      "30/30 [==============================] - 1s 37ms/step - loss: 0.1691 - accuracy: 0.9535 - val_loss: 0.2895 - val_accuracy: 0.8853\n",
      "Epoch 20/40\n",
      "30/30 [==============================] - 1s 37ms/step - loss: 0.1563 - accuracy: 0.9586 - val_loss: 0.2851 - val_accuracy: 0.8850\n",
      "Epoch 21/40\n",
      "30/30 [==============================] - 1s 38ms/step - loss: 0.1447 - accuracy: 0.9629 - val_loss: 0.2822 - val_accuracy: 0.8860\n",
      "Epoch 22/40\n",
      "30/30 [==============================] - 1s 37ms/step - loss: 0.1340 - accuracy: 0.9662 - val_loss: 0.2792 - val_accuracy: 0.8870\n",
      "Epoch 23/40\n",
      "30/30 [==============================] - 1s 44ms/step - loss: 0.1247 - accuracy: 0.9693 - val_loss: 0.2776 - val_accuracy: 0.8879\n",
      "Epoch 24/40\n",
      "30/30 [==============================] - 1s 43ms/step - loss: 0.1157 - accuracy: 0.9735 - val_loss: 0.2769 - val_accuracy: 0.8882\n",
      "Epoch 25/40\n",
      "30/30 [==============================] - 1s 42ms/step - loss: 0.1075 - accuracy: 0.9760 - val_loss: 0.2752 - val_accuracy: 0.8883\n",
      "Epoch 26/40\n",
      "30/30 [==============================] - 1s 42ms/step - loss: 0.1007 - accuracy: 0.9773 - val_loss: 0.2755 - val_accuracy: 0.8886\n",
      "Epoch 27/40\n",
      "30/30 [==============================] - 1s 38ms/step - loss: 0.0935 - accuracy: 0.9801 - val_loss: 0.2754 - val_accuracy: 0.8890\n",
      "Epoch 28/40\n",
      "30/30 [==============================] - 1s 38ms/step - loss: 0.0872 - accuracy: 0.9824 - val_loss: 0.2753 - val_accuracy: 0.8896\n",
      "Epoch 29/40\n",
      "30/30 [==============================] - 1s 38ms/step - loss: 0.0814 - accuracy: 0.9839 - val_loss: 0.2765 - val_accuracy: 0.8896\n",
      "Epoch 30/40\n",
      "30/30 [==============================] - 1s 38ms/step - loss: 0.0760 - accuracy: 0.9857 - val_loss: 0.2779 - val_accuracy: 0.8885\n",
      "Epoch 31/40\n",
      "30/30 [==============================] - 1s 38ms/step - loss: 0.0715 - accuracy: 0.9867 - val_loss: 0.2788 - val_accuracy: 0.8890\n",
      "Epoch 32/40\n",
      "30/30 [==============================] - 1s 41ms/step - loss: 0.0669 - accuracy: 0.9879 - val_loss: 0.2800 - val_accuracy: 0.8880\n",
      "Epoch 33/40\n",
      "30/30 [==============================] - 1s 40ms/step - loss: 0.0627 - accuracy: 0.9891 - val_loss: 0.2837 - val_accuracy: 0.8877\n",
      "Epoch 34/40\n",
      "30/30 [==============================] - 1s 38ms/step - loss: 0.0587 - accuracy: 0.9898 - val_loss: 0.2835 - val_accuracy: 0.8879\n",
      "Epoch 35/40\n",
      "30/30 [==============================] - 1s 38ms/step - loss: 0.0552 - accuracy: 0.9912 - val_loss: 0.2854 - val_accuracy: 0.8875\n",
      "Epoch 36/40\n",
      "30/30 [==============================] - 1s 38ms/step - loss: 0.0520 - accuracy: 0.9913 - val_loss: 0.2871 - val_accuracy: 0.8879\n",
      "Epoch 37/40\n",
      "30/30 [==============================] - 1s 39ms/step - loss: 0.0489 - accuracy: 0.9925 - val_loss: 0.2914 - val_accuracy: 0.8862\n",
      "Epoch 38/40\n",
      "30/30 [==============================] - 1s 39ms/step - loss: 0.0460 - accuracy: 0.9927 - val_loss: 0.2919 - val_accuracy: 0.8879\n",
      "Epoch 39/40\n",
      "30/30 [==============================] - 1s 39ms/step - loss: 0.0434 - accuracy: 0.9939 - val_loss: 0.2961 - val_accuracy: 0.8860\n",
      "Epoch 40/40\n",
      "30/30 [==============================] - 1s 42ms/step - loss: 0.0409 - accuracy: 0.9936 - val_loss: 0.2979 - val_accuracy: 0.8861\n"
     ]
    },
    {
     "data": {
      "text/plain": [
       "<keras.callbacks.History at 0x7fee396eed90>"
      ]
     },
     "execution_count": 11,
     "metadata": {},
     "output_type": "execute_result"
    }
   ],
   "source": [
    "fitModel = model.fit(x_train, y_train, epochs=40, batch_size=512, validation_data=(x_val, y_val), verbose=1)\n",
    "fitModel"
   ]
  },
  {
   "cell_type": "code",
   "execution_count": 13,
   "id": "a52858b2-752e-47b3-8fdb-6d2ec396282b",
   "metadata": {},
   "outputs": [
    {
     "name": "stdout",
     "output_type": "stream",
     "text": [
      "782/782 [==============================] - 2s 3ms/step - loss: 0.3312 - accuracy: 0.8724\n"
     ]
    },
    {
     "data": {
      "text/plain": [
       "[0.3311576545238495, 0.872439980506897]"
      ]
     },
     "execution_count": 13,
     "metadata": {},
     "output_type": "execute_result"
    }
   ],
   "source": [
    "results = model.evaluate(test_data, test_labels)\n",
    "results"
   ]
  },
  {
   "cell_type": "code",
   "execution_count": 33,
   "id": "abad87e1-83bf-4689-8bdf-800f3bcab85c",
   "metadata": {},
   "outputs": [
    {
     "name": "stdout",
     "output_type": "stream",
     "text": [
      "782/782 [==============================] - 1s 2ms/step\n"
     ]
    },
    {
     "data": {
      "text/plain": [
       "dtype('float32')"
      ]
     },
     "execution_count": 33,
     "metadata": {},
     "output_type": "execute_result"
    }
   ],
   "source": [
    "review=test_data[0]\n",
    "predict=model.predict(test_data)\n",
    "predict.dtype"
   ]
  },
  {
   "cell_type": "code",
   "execution_count": 37,
   "id": "71614726-35dd-49c6-ba43-4f2e12590223",
   "metadata": {},
   "outputs": [
    {
     "data": {
      "text/plain": [
       "[0, 1, 1, 1, 1, 1, 1, 0, 1, 1]"
      ]
     },
     "execution_count": 37,
     "metadata": {},
     "output_type": "execute_result"
    }
   ],
   "source": [
    "Y_pred=[]\n",
    "for i in predict:\n",
    "    if i > 0.5:\n",
    "        Y_pred.append(1)\n",
    "    else:\n",
    "        Y_pred.append(0)\n",
    "Y_pred[:10]"
   ]
  },
  {
   "cell_type": "code",
   "execution_count": null,
   "id": "c5c91353-271e-4e5f-9cb2-44e3e51d1a1d",
   "metadata": {},
   "outputs": [],
   "source": []
  },
  {
   "cell_type": "raw",
   "id": "dc69be3f-db75-4c30-8e24-109d52dabb29",
   "metadata": {},
   "source": [
    "model.save(\"model.h5\")"
   ]
  },
  {
   "cell_type": "code",
   "execution_count": 38,
   "id": "08499cf2-82d1-44ef-a2d1-38cccc0fe904",
   "metadata": {},
   "outputs": [],
   "source": [
    "model = keras.models.load_model(\"model.h5\")"
   ]
  },
  {
   "cell_type": "code",
   "execution_count": 39,
   "id": "fab24207-5135-470f-a612-cec54e86fdf5",
   "metadata": {},
   "outputs": [],
   "source": [
    "def review_encode(s):\n",
    "\tencoded = [1]\n",
    "\n",
    "\tfor word in s:\n",
    "\t\tif word.lower() in word_index:\n",
    "\t\t\tencoded.append(word_index[word.lower()])\n",
    "\t\telse:\n",
    "\t\t\tencoded.append(2)\n",
    "\n",
    "\treturn encoded\n",
    "    "
   ]
  },
  {
   "cell_type": "code",
   "execution_count": 46,
   "id": "4382105c-1812-4bd9-89e5-d278b02aa8e3",
   "metadata": {},
   "outputs": [
    {
     "name": "stdout",
     "output_type": "stream",
     "text": [
      "1/1 [==============================] - 0s 33ms/step\n",
      "The best Disney animated film ever...This film had it all, it was funny, emotional, had family drama, and above all, great animation and songs! My personal favorite character is Rafiki, the Baboon! I still cant forget the line he says to Simbe, \"Past can hurt, but as I see it, you can either run from it, or learn from it!\" it is so true! i loved Zazu's weirdness, and shenzi's humor, above all, i loved Pumba's innocence and Timon's intelligence! In short, i found the film the best film ever... The voice cast is also great. Mathew did complete justice to Simba, and what can I say about Mufasa, He is the best King, and dad anyone can ever get! The movie is not meant for kids, its meant to teach every adult a lesson...to find our place in the great \"Circle Of Life\". I give this film a perfect 10.\n",
      "\n",
      "[[    1     4   118   910  1125    22     2    22    69    12    32    12\n",
      "     16   163   921    69   223   453     5   752    32    87   748     5\n",
      "      2    61   965   514   109     9 20058     4     2    13   131  2488\n",
      "    859     4   347    29   560     8     2   501    70  1487    21    17\n",
      "     13    67    12    25    70   345   521    39    12    42   850    39\n",
      "      2    12     9    38     2    13   447     2  8279     5     2   486\n",
      "    752    32    13   447 80694  3093     5 16475     2    11   346    13\n",
      "    258     4    22     4   118    22   126     4   544   177     9    82\n",
      "     87 30716   122   601  1351     8 10539     5    51    70    13   135\n",
      "     44 60902    29     9     4   118   711     5  1246   259    70   126\n",
      "      2     4    20     9    24   981    18   362    94   981     8  3336\n",
      "    175  1158     6     2   169   263   273    11     4    87  4246     7\n",
      "    113    13   202    14    22     6   404   158     0     0     0     0\n",
      "      0     0     0     0     0     0     0     0     0     0     0     0\n",
      "      0     0     0     0     0     0     0     0     0     0     0     0\n",
      "      0     0     0     0     0     0     0     0     0     0     0     0\n",
      "      0     0     0     0     0     0     0     0     0     0     0     0\n",
      "      0     0     0     0     0     0     0     0     0     0     0     0\n",
      "      0     0     0     0     0     0     0     0     0     0     0     0\n",
      "      0     0     0     0     0     0     0     0     0     0     0     0\n",
      "      0     0     0     0     0     0     0     0     0     0]]\n",
      "Prediction: [1]\n"
     ]
    }
   ],
   "source": [
    "with open(\"/Users/icg/Downloads/movie_review.txt\", encoding=\"utf-8\") as f:\n",
    "\tfor line in f.readlines():\n",
    "\t\tnline = line.replace(\",\", \"\").replace(\".\", \"\").replace(\"(\", \"\").replace(\")\", \"\").replace(\":\", \"\").replace(\"\\\"\",\"\").strip().split(\" \")\n",
    "\t\tencode = review_encode(nline)\n",
    "\t\tencode = keras.preprocessing.sequence.pad_sequences([encode], value=word_index[\"<PAD>\"], padding=\"post\", maxlen=250) # make the data 250 words long\n",
    "\t\tpredict = model.predict(encode)\n",
    "\t\tprint(line)\n",
    "\t\tprint(encode)\n",
    "Y_pred=[]\n",
    "for i in predict:\n",
    "    if i > 0.5:\n",
    "        Y_pred.append(1)\n",
    "    else:\n",
    "        Y_pred.append(0)\n",
    "print(\"Prediction:\",Y_pred)\n",
    "\n",
    "\n"
   ]
  },
  {
   "cell_type": "code",
   "execution_count": null,
   "id": "bb93c416-356a-4f0c-87a7-f12608d87e32",
   "metadata": {},
   "outputs": [],
   "source": [
    "\n",
    "\n"
   ]
  }
 ],
 "metadata": {
  "kernelspec": {
   "display_name": "Python 3 (ipykernel)",
   "language": "python",
   "name": "python3"
  },
  "language_info": {
   "codemirror_mode": {
    "name": "ipython",
    "version": 3
   },
   "file_extension": ".py",
   "mimetype": "text/x-python",
   "name": "python",
   "nbconvert_exporter": "python",
   "pygments_lexer": "ipython3",
   "version": "3.9.18"
  }
 },
 "nbformat": 4,
 "nbformat_minor": 5
}
